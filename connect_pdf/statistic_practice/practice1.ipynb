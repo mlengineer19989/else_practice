{
 "cells": [
  {
   "cell_type": "code",
   "execution_count": 3,
   "metadata": {},
   "outputs": [
    {
     "name": "stdout",
     "output_type": "stream",
     "text": [
      "検定統計量z値 : 2.919138863924703\n",
      "境界値 : 1.6448536269514722\n",
      "p値 : 0.0017549991395109377\n"
     ]
    }
   ],
   "source": [
    "from scipy import stats\n",
    "import math\n",
    "\n",
    "x1 = 20 #該当数\n",
    "x2 = 690\n",
    "n1 = 130*10**4 #標本サイズ\n",
    "n2 = 2340*10**4 #標本サイズ\n",
    "p1 = x1/n1  #標本比率\n",
    "p2 = x2/n2  #標本比率\n",
    "p = (x1 + x2)/(n1 + n2)\n",
    "\n",
    "z_value = abs(p1 - p2) / math.sqrt(p * (1 - p)*(1/n1 + 1/n2))\n",
    "\n",
    "alpha = 0.05 #有意水準\n",
    "\n",
    "border = stats.norm.ppf(1 - alpha)\n",
    "p_value = 1 - stats.norm.cdf(z_value)\n",
    "\n",
    "print(\"検定統計量z値\", \":\", z_value)\n",
    "print(\"境界値\", \":\", border)\n",
    "print(\"p値\", \":\", p_value)"
   ]
  },
  {
   "cell_type": "code",
   "execution_count": null,
   "metadata": {},
   "outputs": [],
   "source": []
  }
 ],
 "metadata": {
  "kernelspec": {
   "display_name": "Python 3.8.8 ('base')",
   "language": "python",
   "name": "python3"
  },
  "language_info": {
   "codemirror_mode": {
    "name": "ipython",
    "version": 3
   },
   "file_extension": ".py",
   "mimetype": "text/x-python",
   "name": "python",
   "nbconvert_exporter": "python",
   "pygments_lexer": "ipython3",
   "version": "3.8.8"
  },
  "orig_nbformat": 4,
  "vscode": {
   "interpreter": {
    "hash": "131890dab21eae7250f658285fc23dc32d54d8a0c5b6241dfc540553a94bd1eb"
   }
  }
 },
 "nbformat": 4,
 "nbformat_minor": 2
}
