{
 "cells": [
  {
   "cell_type": "code",
   "execution_count": 1,
   "id": "2bb7dadf",
   "metadata": {},
   "outputs": [
    {
     "name": "stdout",
     "output_type": "stream",
     "text": [
      "Collecting PyPDF2\n",
      "  Downloading PyPDF2-2.6.0-py3-none-any.whl (201 kB)\n",
      "\u001b[K     |████████████████████████████████| 201 kB 5.6 MB/s eta 0:00:01\n",
      "\u001b[?25hRequirement already satisfied: typing-extensions in /Users/yamauchito_satoshi/opt/anaconda3/lib/python3.8/site-packages (from PyPDF2) (3.7.4.3)\n",
      "Installing collected packages: PyPDF2\n",
      "Successfully installed PyPDF2-2.6.0\n",
      "Note: you may need to restart the kernel to use updated packages.\n"
     ]
    }
   ],
   "source": [
    "pip install PyPDF2"
   ]
  },
  {
   "cell_type": "code",
   "execution_count": 2,
   "id": "7513bfc0",
   "metadata": {
    "ExecuteTime": {
     "end_time": "2022-01-10T06:57:29.898663Z",
     "start_time": "2022-01-10T06:57:29.892836Z"
    }
   },
   "outputs": [],
   "source": [
    "import PyPDF2\n",
    "\n",
    "merger = PyPDF2.PdfFileMerger()\n",
    "\n",
    "for i in range(8):\n",
    "    merger.append('/Users/yamauchito_satoshi/Documents/資料/文献/内点法/'+str(i+1)+'.pdf')\n",
    "\n",
    "merger.write('/Users/yamauchito_satoshi/Documents/資料/文献/内点法/merged.pdf')\n",
    "merger.close()"
   ]
  },
  {
   "cell_type": "code",
   "execution_count": null,
   "id": "1f49f7c4",
   "metadata": {},
   "outputs": [],
   "source": []
  }
 ],
 "metadata": {
  "kernelspec": {
   "display_name": "Python 3.8.8 ('base')",
   "language": "python",
   "name": "python3"
  },
  "language_info": {
   "codemirror_mode": {
    "name": "ipython",
    "version": 3
   },
   "file_extension": ".py",
   "mimetype": "text/x-python",
   "name": "python",
   "nbconvert_exporter": "python",
   "pygments_lexer": "ipython3",
   "version": "3.8.8"
  },
  "toc": {
   "base_numbering": 1,
   "nav_menu": {},
   "number_sections": true,
   "sideBar": true,
   "skip_h1_title": false,
   "title_cell": "Table of Contents",
   "title_sidebar": "Contents",
   "toc_cell": false,
   "toc_position": {},
   "toc_section_display": true,
   "toc_window_display": false
  },
  "varInspector": {
   "cols": {
    "lenName": 16,
    "lenType": 16,
    "lenVar": 40
   },
   "kernels_config": {
    "python": {
     "delete_cmd_postfix": "",
     "delete_cmd_prefix": "del ",
     "library": "var_list.py",
     "varRefreshCmd": "print(var_dic_list())"
    },
    "r": {
     "delete_cmd_postfix": ") ",
     "delete_cmd_prefix": "rm(",
     "library": "var_list.r",
     "varRefreshCmd": "cat(var_dic_list()) "
    }
   },
   "types_to_exclude": [
    "module",
    "function",
    "builtin_function_or_method",
    "instance",
    "_Feature"
   ],
   "window_display": false
  },
  "vscode": {
   "interpreter": {
    "hash": "131890dab21eae7250f658285fc23dc32d54d8a0c5b6241dfc540553a94bd1eb"
   }
  }
 },
 "nbformat": 4,
 "nbformat_minor": 5
}
