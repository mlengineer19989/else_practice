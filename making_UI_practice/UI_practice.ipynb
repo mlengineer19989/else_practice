{
 "cells": [
  {
   "cell_type": "code",
   "execution_count": 1,
   "metadata": {},
   "outputs": [],
   "source": [
    "import ipywidgets as widgets"
   ]
  },
  {
   "cell_type": "code",
   "execution_count": 2,
   "metadata": {},
   "outputs": [],
   "source": [
    "button = widgets.Button(description='Click me')"
   ]
  },
  {
   "cell_type": "code",
   "execution_count": 3,
   "metadata": {},
   "outputs": [
    {
     "data": {
      "application/vnd.jupyter.widget-view+json": {
       "model_id": "ff271926f7fe4b4a903fc13b5903ddb9",
       "version_major": 2,
       "version_minor": 0
      },
      "text/plain": [
       "Button(description='Click me', style=ButtonStyle())"
      ]
     },
     "metadata": {},
     "output_type": "display_data"
    }
   ],
   "source": [
    "button"
   ]
  },
  {
   "cell_type": "code",
   "execution_count": 4,
   "metadata": {},
   "outputs": [
    {
     "data": {
      "application/vnd.jupyter.widget-view+json": {
       "model_id": "ff271926f7fe4b4a903fc13b5903ddb9",
       "version_major": 2,
       "version_minor": 0
      },
      "text/plain": [
       "Button(description='Click me', style=ButtonStyle())"
      ]
     },
     "metadata": {},
     "output_type": "display_data"
    }
   ],
   "source": [
    "from IPython.display import display\n",
    "display(button)"
   ]
  },
  {
   "cell_type": "code",
   "execution_count": 5,
   "metadata": {},
   "outputs": [
    {
     "data": {
      "application/vnd.jupyter.widget-view+json": {
       "model_id": "235d4fc9e9d34d4ba1bc70dc8b16e674",
       "version_major": 2,
       "version_minor": 0
      },
      "text/plain": [
       "Button(description='Click me', style=ButtonStyle())"
      ]
     },
     "metadata": {},
     "output_type": "display_data"
    },
    {
     "name": "stdout",
     "output_type": "stream",
     "text": [
      "Clicked\n"
     ]
    }
   ],
   "source": [
    "button = widgets.Button(description='Click me')\n",
    "\n",
    "def on_click_callback(clicked_button: widgets.Button) -> None:\n",
    "    \"\"\"ボタンが押されたときに発火するイベントハンドラ\"\"\"\n",
    "    print('Clicked')  # イベントハンドラ内で print() 関数を呼んでみる\n",
    "\n",
    "# ボタンにイベントハンドラを登録する\n",
    "button.on_click(on_click_callback)\n",
    "display(button)"
   ]
  },
  {
   "cell_type": "code",
   "execution_count": 8,
   "metadata": {},
   "outputs": [
    {
     "data": {
      "application/vnd.jupyter.widget-view+json": {
       "model_id": "9956d0b838bd407c9c07cfd27eb8e8dd",
       "version_major": 2,
       "version_minor": 0
      },
      "text/plain": [
       "Button(description='Click me', style=ButtonStyle())"
      ]
     },
     "metadata": {},
     "output_type": "display_data"
    },
    {
     "data": {
      "application/vnd.jupyter.widget-view+json": {
       "model_id": "1b33e201cc12453eabb2997c3fad64fe",
       "version_major": 2,
       "version_minor": 0
      },
      "text/plain": [
       "Output()"
      ]
     },
     "metadata": {},
     "output_type": "display_data"
    }
   ],
   "source": [
    "button = widgets.Button(description='Click me')\n",
    "# 標準出力を表示するエリアを用意する\n",
    "output = widgets.Output(layour={'border': '1px solid black'})\n",
    "\n",
    "def on_click_callback(clicked_button: widgets.Button) -> None:\n",
    "    # コンテキストマネージャとして使う\n",
    "    with output:\n",
    "        # スコープ内の標準出力は Output に書き出される\n",
    "        print('Clicked')\n",
    "\n",
    "button.on_click(on_click_callback)\n",
    "# Output も表示対象に入れる\n",
    "display(button, output)"
   ]
  },
  {
   "cell_type": "code",
   "execution_count": 9,
   "metadata": {},
   "outputs": [
    {
     "data": {
      "application/vnd.jupyter.widget-view+json": {
       "model_id": "50b30db5459f4ebf9705b1aad45f4dcb",
       "version_major": 2,
       "version_minor": 0
      },
      "text/plain": [
       "Button(description='Click me', style=ButtonStyle())"
      ]
     },
     "metadata": {},
     "output_type": "display_data"
    },
    {
     "data": {
      "application/vnd.jupyter.widget-view+json": {
       "model_id": "a90a6b288860458ea2090ce597cc34d4",
       "version_major": 2,
       "version_minor": 0
      },
      "text/plain": [
       "Output()"
      ]
     },
     "metadata": {},
     "output_type": "display_data"
    }
   ],
   "source": [
    "from datetime import datetime\n",
    "\n",
    "button = widgets.Button(description='Click me')\n",
    "output = widgets.Output(layour={'border': '1px solid black'})\n",
    "\n",
    "def on_click_callback(clicked_button: widgets.Button) -> None:\n",
    "    with output:\n",
    "        # 表示エリアの内容を消去する\n",
    "        output.clear_output()\n",
    "        print(f'Clicked at {datetime.now()}')\n",
    "\n",
    "button.on_click(on_click_callback)\n",
    "display(button, output)\n",
    "\n",
    "# 手動でイベントを発生させる\n",
    "button.click()"
   ]
  },
  {
   "cell_type": "code",
   "execution_count": 13,
   "metadata": {},
   "outputs": [
    {
     "data": {
      "application/vnd.jupyter.widget-view+json": {
       "model_id": "aec8fe52e84a49f49fb7b64604ad4b30",
       "version_major": 2,
       "version_minor": 0
      },
      "text/plain": [
       "Button(description='Click me', style=ButtonStyle())"
      ]
     },
     "metadata": {},
     "output_type": "display_data"
    },
    {
     "data": {
      "application/vnd.jupyter.widget-view+json": {
       "model_id": "d8fa07c83f1147eb8656d9a0fe047268",
       "version_major": 2,
       "version_minor": 0
      },
      "text/plain": [
       "Output(layout=Layout(border='1px solid black'))"
      ]
     },
     "metadata": {},
     "output_type": "display_data"
    }
   ],
   "source": [
    "from datetime import datetime\n",
    "\n",
    "button = widgets.Button(description='Click me')\n",
    "output = widgets.Output(layout={'border': '1px solid black'})\n",
    "\n",
    "# 関数が呼ばれる度に出力をクリアする\n",
    "@output.capture(clear_output=True)\n",
    "def on_click_callback(b: widgets.Button) -> None:\n",
    "    print(f'Clicked at {datetime.now()}')\n",
    "\n",
    "button.on_click(on_click_callback)\n",
    "display(button, output)\n",
    "\n",
    "button.click()"
   ]
  },
  {
   "cell_type": "code",
   "execution_count": 10,
   "metadata": {},
   "outputs": [
    {
     "data": {
      "application/vnd.jupyter.widget-view+json": {
       "model_id": "ee4849520d0e49068c574a1d3778356b",
       "version_major": 2,
       "version_minor": 0
      },
      "text/plain": [
       "Select(options=('Apple', 'Banana', 'Cherry'), value='Apple')"
      ]
     },
     "metadata": {},
     "output_type": "display_data"
    },
    {
     "data": {
      "application/vnd.jupyter.widget-view+json": {
       "model_id": "9a4846a52dea4a1582d2650dfcc8735b",
       "version_major": 2,
       "version_minor": 0
      },
      "text/plain": [
       "Button(description='Click me', style=ButtonStyle())"
      ]
     },
     "metadata": {},
     "output_type": "display_data"
    },
    {
     "data": {
      "application/vnd.jupyter.widget-view+json": {
       "model_id": "981c6c91ac0d4351a8f03a1a340b5561",
       "version_major": 2,
       "version_minor": 0
      },
      "text/plain": [
       "Output()"
      ]
     },
     "metadata": {},
     "output_type": "display_data"
    }
   ],
   "source": [
    "button = widgets.Button(description='Click me')\n",
    "# 値を選択するセレクタ\n",
    "select = widgets.Select(options=['Apple', 'Banana', 'Cherry'])\n",
    "output = widgets.Output(layour={'border': '1px solid black'})\n",
    "\n",
    "@output.capture()\n",
    "def on_click_callback(clicked_button: widgets.Button) -> None:\n",
    "    # セレクタで選択されているアイテムを使う\n",
    "    print(f'Selected item: {select.value}')\n",
    "\n",
    "button.on_click(on_click_callback)\n",
    "display(select, button, output)"
   ]
  },
  {
   "cell_type": "code",
   "execution_count": 11,
   "metadata": {},
   "outputs": [
    {
     "data": {
      "application/vnd.jupyter.widget-view+json": {
       "model_id": "68b1fbfb2e1942bd90add57a6476e640",
       "version_major": 2,
       "version_minor": 0
      },
      "text/plain": [
       "Select(options=('Apple', 'Banana', 'Cherry'), value='Apple')"
      ]
     },
     "metadata": {},
     "output_type": "display_data"
    },
    {
     "data": {
      "application/vnd.jupyter.widget-view+json": {
       "model_id": "6c81c6ee92fd4814be1c565a58aaa2b4",
       "version_major": 2,
       "version_minor": 0
      },
      "text/plain": [
       "Button(description='Click me', style=ButtonStyle())"
      ]
     },
     "metadata": {},
     "output_type": "display_data"
    },
    {
     "data": {
      "application/vnd.jupyter.widget-view+json": {
       "model_id": "e667d6626f554029bfdc9155c84233df",
       "version_major": 2,
       "version_minor": 0
      },
      "text/plain": [
       "Output()"
      ]
     },
     "metadata": {},
     "output_type": "display_data"
    }
   ],
   "source": [
    "def show_widgets():\n",
    "    \"\"\"ウィジェットを設定する関数\"\"\"\n",
    "    button = widgets.Button(description='Click me')\n",
    "    select = widgets.Select(options=['Apple', 'Banana', 'Cherry'])\n",
    "    output = widgets.Output(layour={'border': '1px solid black'})\n",
    "\n",
    "    @output.capture()\n",
    "    def on_click_callback(clicked_button: widgets.Button) -> None:\n",
    "        print(f'Selected item: {select.value}')\n",
    "\n",
    "    button.on_click(on_click_callback)\n",
    "    display(select, button, output)\n",
    "\n",
    "# ウィジェットを表示する\n",
    "show_widgets()"
   ]
  },
  {
   "cell_type": "code",
   "execution_count": 14,
   "metadata": {},
   "outputs": [
    {
     "data": {
      "application/vnd.jupyter.widget-view+json": {
       "model_id": "b2ed509d675443b599fd28e26248ea02",
       "version_major": 2,
       "version_minor": 0
      },
      "text/plain": [
       "VBox(children=(Button(description='Click me', style=ButtonStyle()), Select(options=('Apple', 'Banana', 'Cherry…"
      ]
     },
     "metadata": {},
     "output_type": "display_data"
    }
   ],
   "source": [
    "def show_widgets() -> widgets.VBox:\n",
    "    \"\"\"ウィジェットを設定する関数\"\"\"\n",
    "    button = widgets.Button(description='Click me')\n",
    "    select = widgets.Select(options=['Apple', 'Banana', 'Cherry'])\n",
    "    output = widgets.Output(layour={'border': '1px solid black'})\n",
    "\n",
    "    @output.capture(clear_output=True)\n",
    "    def on_click_callback(clicked_button: widgets.Button) -> None:\n",
    "        print(f'Selected item: {select.value}')\n",
    "\n",
    "    button.on_click(on_click_callback)\n",
    "    # 一連のウィジェットを VBox にまとめて返す\n",
    "    return widgets.VBox([button, select, output])\n",
    "\n",
    "# ウィジェットを表示する\n",
    "box = show_widgets()\n",
    "display(box)"
   ]
  },
  {
   "cell_type": "code",
   "execution_count": 15,
   "metadata": {},
   "outputs": [
    {
     "data": {
      "application/vnd.jupyter.widget-view+json": {
       "model_id": "16181e8e4e4a4d2ca1609b50b52c6a16",
       "version_major": 2,
       "version_minor": 0
      },
      "text/plain": [
       "Select(options=('Apple', 'Banana', 'Cherry'), value='Apple')"
      ]
     },
     "metadata": {},
     "output_type": "display_data"
    },
    {
     "data": {
      "application/vnd.jupyter.widget-view+json": {
       "model_id": "bb0a82c62fd84b00a1eb211ce344465e",
       "version_major": 2,
       "version_minor": 0
      },
      "text/plain": [
       "Output()"
      ]
     },
     "metadata": {},
     "output_type": "display_data"
    }
   ],
   "source": [
    "from traitlets.utils.bunch import Bunch\n",
    "\n",
    "def show_widgets():\n",
    "    select = widgets.Select(options=['Apple', 'Banana', 'Cherry'])\n",
    "    output = widgets.Output(layour={'border': '1px solid black'})\n",
    "\n",
    "    @output.capture()\n",
    "    def on_value_change(change: Bunch) -> None:\n",
    "        # 値が変更されたイベントを扱う\n",
    "        if change['name'] == 'value':\n",
    "            output.clear_output()\n",
    "            # 変更前と変更後の値を出力する\n",
    "            old_value = change['old']\n",
    "            new_value = change['new']\n",
    "            print(f'value changed: {old_value} -> {new_value}')\n",
    "\n",
    "    # 値の変更を監視する\n",
    "    select.observe(on_value_change)\n",
    "    display(select, output)\n",
    "\n",
    "show_widgets()"
   ]
  },
  {
   "cell_type": "code",
   "execution_count": 16,
   "metadata": {},
   "outputs": [
    {
     "data": {
      "application/vnd.jupyter.widget-view+json": {
       "model_id": "58898f86f0834d02b559e43455901be6",
       "version_major": 2,
       "version_minor": 0
      },
      "text/plain": [
       "Select(description='select_value', options=('Apple', 'Banana', 'Cherry'), value='Apple')"
      ]
     },
     "metadata": {},
     "output_type": "display_data"
    },
    {
     "data": {
      "application/vnd.jupyter.widget-view+json": {
       "model_id": "018f2bdb13bc4eee8db1ee68e76959ef",
       "version_major": 2,
       "version_minor": 0
      },
      "text/plain": [
       "IntSlider(value=50, description='slider:', min=1)"
      ]
     },
     "metadata": {},
     "output_type": "display_data"
    },
    {
     "data": {
      "application/vnd.jupyter.widget-view+json": {
       "model_id": "c436e06dcf23427e9d0d0e4c735a80aa",
       "version_major": 2,
       "version_minor": 0
      },
      "text/plain": [
       "Output()"
      ]
     },
     "metadata": {},
     "output_type": "display_data"
    }
   ],
   "source": [
    "def show_widgets():\n",
    "    slider = widgets.IntSlider(value=50, min=1, max=100, description='slider:')\n",
    "    select = widgets.Select(options=['Apple', 'Banana', 'Cherry'])\n",
    "    output = widgets.Output(layour={'border': '1px solid black'})\n",
    "\n",
    "    @output.capture(clear_output=True)\n",
    "    def on_value_change(select_value: str, slider_value: int) -> None:\n",
    "        print(f'value changed: {select_value=}, {slider_value=}')\n",
    "\n",
    "    # 複数のウィジェットの変更を一度に監視できる\n",
    "    widgets.interactive(on_value_change, select_value=select, slider_value=slider)\n",
    "    display(select, slider, output)\n",
    "\n",
    "show_widgets()"
   ]
  },
  {
   "cell_type": "code",
   "execution_count": 17,
   "metadata": {},
   "outputs": [
    {
     "data": {
      "application/vnd.jupyter.widget-view+json": {
       "model_id": "22ca6199fb034924a0ef5ecce8ab23d1",
       "version_major": 2,
       "version_minor": 0
      },
      "text/plain": [
       "Play(value=50, description='play:', interval=500, min=1)"
      ]
     },
     "metadata": {},
     "output_type": "display_data"
    },
    {
     "data": {
      "application/vnd.jupyter.widget-view+json": {
       "model_id": "07e757bc15994fd6987c77926dd23787",
       "version_major": 2,
       "version_minor": 0
      },
      "text/plain": [
       "IntSlider(value=50, description='slider:', min=1)"
      ]
     },
     "metadata": {},
     "output_type": "display_data"
    },
    {
     "data": {
      "application/vnd.jupyter.widget-view+json": {
       "model_id": "933f04e72c9a4d8b884a21b7988ec588",
       "version_major": 2,
       "version_minor": 0
      },
      "text/plain": [
       "Output()"
      ]
     },
     "metadata": {},
     "output_type": "display_data"
    }
   ],
   "source": [
    "def show_widgets():\n",
    "    # アニメーション制御\n",
    "    play = widgets.Play(\n",
    "        value=50,\n",
    "        min=1,\n",
    "        max=100,\n",
    "        step=1,\n",
    "        interval=500,  # 更新間隔 (ミリ秒)\n",
    "        description=\"play:\",\n",
    "    )\n",
    "    slider = widgets.IntSlider(value=50, min=1, max=100, description='slider:')\n",
    "    output = widgets.Output(layour={'border': '1px solid black'})\n",
    "\n",
    "    # ウィジェットの値を連動させる\n",
    "    widgets.jslink((play, 'value'), (slider, 'value'))\n",
    "\n",
    "    @output.capture(clear_output=True)\n",
    "    def on_value_change(slider_value: int) -> None:\n",
    "        print(f'value changed: {slider_value=}')\n",
    "\n",
    "    widgets.interactive(on_value_change, slider_value=slider)\n",
    "    display(play, slider, output)\n",
    "\n",
    "show_widgets()"
   ]
  },
  {
   "cell_type": "markdown",
   "metadata": {},
   "source": [
    "# 以下練習用独自コード"
   ]
  },
  {
   "cell_type": "code",
   "execution_count": 30,
   "metadata": {},
   "outputs": [
    {
     "data": {
      "application/vnd.jupyter.widget-view+json": {
       "model_id": "5ba6b00a91c342aaa70a51a9fe876dfa",
       "version_major": 2,
       "version_minor": 0
      },
      "text/plain": [
       "VBox(children=(BoundedIntText(value=1, description='MV number:', max=1000), Button(description='Click me', sty…"
      ]
     },
     "metadata": {},
     "output_type": "display_data"
    }
   ],
   "source": [
    "def show_widgets() -> widgets.VBox:\n",
    "    \"\"\"ウィジェットを設定する関数\"\"\"\n",
    "    number = widgets.BoundedIntText(\n",
    "                                value=1,\n",
    "                                min=0,\n",
    "                                max=1000,\n",
    "                                step=1,\n",
    "                                description='MV number:',\n",
    "                                disabled=False\n",
    "                                )\n",
    "\n",
    "    button = widgets.Button(description='Click me')\n",
    "    output = widgets.Output(layour={'border': '1px solid black'})\n",
    "\n",
    "    @output.capture(clear_output=True)\n",
    "    def on_click_callback(clicked_button: widgets.Button) -> None:\n",
    "        select = widgets.Select(options=['system'+str(i+1) for i in range(number.value)])\n",
    "        #print(f'Selected system: {select.value}')\n",
    "        return select\n",
    "\n",
    "    button.on_click(on_click_callback)\n",
    "    # 一連のウィジェットを VBox にまとめて返す\n",
    "    return widgets.VBox([number, button, select, output])\n",
    "\n",
    "# ウィジェットを表示する\n",
    "box = show_widgets()\n",
    "display(box)"
   ]
  },
  {
   "cell_type": "code",
   "execution_count": 26,
   "metadata": {},
   "outputs": [
    {
     "data": {
      "text/plain": [
       "8"
      ]
     },
     "execution_count": 26,
     "metadata": {},
     "output_type": "execute_result"
    }
   ],
   "source": []
  }
 ],
 "metadata": {
  "kernelspec": {
   "display_name": "Python 3.8.8 ('base')",
   "language": "python",
   "name": "python3"
  },
  "language_info": {
   "codemirror_mode": {
    "name": "ipython",
    "version": 3
   },
   "file_extension": ".py",
   "mimetype": "text/x-python",
   "name": "python",
   "nbconvert_exporter": "python",
   "pygments_lexer": "ipython3",
   "version": "3.8.8"
  },
  "orig_nbformat": 4,
  "vscode": {
   "interpreter": {
    "hash": "131890dab21eae7250f658285fc23dc32d54d8a0c5b6241dfc540553a94bd1eb"
   }
  }
 },
 "nbformat": 4,
 "nbformat_minor": 2
}
