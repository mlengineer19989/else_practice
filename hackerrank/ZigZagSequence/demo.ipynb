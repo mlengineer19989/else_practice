{
 "cells": [
  {
   "cell_type": "code",
   "execution_count": 1,
   "metadata": {},
   "outputs": [],
   "source": [
    "%load_ext autoreload"
   ]
  },
  {
   "cell_type": "code",
   "execution_count": 2,
   "metadata": {},
   "outputs": [],
   "source": [
    "%autoreload 2"
   ]
  },
  {
   "cell_type": "markdown",
   "metadata": {},
   "source": [
    "あり得るパターン。\n",
    "- M, C, Xが連続\n",
    "- D, L, Vが単体。\n",
    "- CM, CD, XC, XL, IX, IVが単体"
   ]
  },
  {
   "cell_type": "code",
   "execution_count": 3,
   "metadata": {},
   "outputs": [
    {
     "name": "stdout",
     "output_type": "stream",
     "text": [
      "[1, 2, 3, 4, 5]\n",
      "[1, 2, 5, 4, 3] 2 3 3\n",
      "1 2 5 4 3\n",
      "[1, 2, 3, 4, 5, 6, 7]\n",
      "[1, 2, 3, 7, 5, 6, 4] 3 4 5\n",
      "1 2 3 7 6 5 4\n"
     ]
    }
   ],
   "source": []
  }
 ],
 "metadata": {
  "kernelspec": {
   "display_name": "base",
   "language": "python",
   "name": "python3"
  },
  "language_info": {
   "codemirror_mode": {
    "name": "ipython",
    "version": 3
   },
   "file_extension": ".py",
   "mimetype": "text/x-python",
   "name": "python",
   "nbconvert_exporter": "python",
   "pygments_lexer": "ipython3",
   "version": "3.7.11 (default, Jul 27 2021, 09:42:29) [MSC v.1916 64 bit (AMD64)]"
  },
  "orig_nbformat": 4,
  "vscode": {
   "interpreter": {
    "hash": "4bf7d42566934378e3b3fa49d5ce639162b742cc4657771a427b205a5111fc3f"
   }
  }
 },
 "nbformat": 4,
 "nbformat_minor": 2
}
