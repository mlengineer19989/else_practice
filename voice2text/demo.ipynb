{
 "cells": [
  {
   "cell_type": "code",
   "execution_count": 1,
   "metadata": {},
   "outputs": [],
   "source": [
    "import speech_recognition as sr"
   ]
  },
  {
   "cell_type": "code",
   "execution_count": 2,
   "metadata": {},
   "outputs": [],
   "source": [
    "path = r\"/Users/yamauchito_satoshi/Documents/渥美との動画関連/音声データ/厚木_20220416/泉の森2.m4a\""
   ]
  },
  {
   "cell_type": "code",
   "execution_count": null,
   "metadata": {},
   "outputs": [],
   "source": [
    "r = sr.Recognizer()\n",
    "with sr.AudioFile(\"data.wav\") as source:\n",
    "    audio = r.record(source)\n",
    "text = r.recognize_google(audio, language=\"ja-JP\")\n",
    "print(text)"
   ]
  },
  {
   "cell_type": "code",
   "execution_count": null,
   "metadata": {},
   "outputs": [],
   "source": [
    "import wave\n",
    "import struct\n",
    "from scipy import fromstring,int16\n",
    "import numpy as np\n",
    "import os\n",
    "import math\n",
    "import speech_recognition as sr\n",
    "import pandas as pd\n",
    "import tkinter.filedialog\n",
    "\n",
    "#filenameに読み込むファイル、timeにカットする間隔\n",
    "def cut_wav(filename,time):  \n",
    "    # timeの単位は[sec]\n",
    "\n",
    "    # ファイルを読み出し\n",
    "    wavf = filename\n",
    "    wr = wave.open(wavf, 'r')\n",
    "\n",
    "    # waveファイルが持つ性質を取得\n",
    "    ch = wr.getnchannels()\n",
    "    width = wr.getsampwidth()\n",
    "    fr = wr.getframerate()\n",
    "    fn = wr.getnframes()\n",
    "    total_time = 1.0 * fn / fr \n",
    "    integer = math.floor(total_time*100) # 小数点以下切り捨て\n",
    "    t = int(time*100)  # 秒数[sec]\n",
    "    frames = int(ch * fr * t /100)\n",
    "    num_cut = int(integer//t)\n",
    "    # waveの実データを取得し、数値化\n",
    "    data = wr.readframes(wr.getnframes())\n",
    "    wr.close()\n",
    "    X = np.frombuffer(data, dtype=int16)\n",
    "\n",
    "    for i in range(num_cut + 1):\n",
    "        # 出力データを生成\n",
    "        outf = out_dir + '/' + str(i) + '.wav' \n",
    "        # 音声をカットした部分は少し巻き戻す\n",
    "        if i > 0:\n",
    "            start_cut = int(i*frames) - int(180000)\n",
    "        else:\n",
    "            start_cut = int(i*frames)\n",
    "\n",
    "        end_cut = int(i*frames + frames)\n",
    "        # print(start_cut)\n",
    "        # print(end_cut)\n",
    "        Y = X[start_cut:end_cut]\n",
    "        outd = struct.pack(\"h\" * len(Y), *Y)\n",
    "\n",
    "        # 書き出し\n",
    "        ww = wave.open(outf, 'w')\n",
    "        ww.setnchannels(ch)\n",
    "        ww.setsampwidth(width)\n",
    "        ww.setframerate(fr)\n",
    "        ww.writeframes(outd)\n",
    "        ww.close()\n",
    "\n",
    "    str_out = \"\"\n",
    "    list1 = [wavf,\"\",\"\"]\n",
    "    df_x = pd.DataFrame([list1])\n",
    "    df_x.columns = ['No', '音声ファイル', '変換結果']\n",
    "\n",
    "    for ii in range(num_cut + 1):\n",
    "        outf = out_dir + '/' + str(ii) + '.wav' \n",
    "        str_out = wav_to_text(outf)\n",
    "        df_x.loc[ii] = [ii,str(ii) + '.wav',str_out]\n",
    "\n",
    "    # excelへ書き出し\n",
    "    with pd.ExcelWriter(out_file) as writer:\n",
    "        df_x.to_excel(writer, sheet_name='結果', index=False)\n",
    "\n",
    "def wav_to_text(wavfile):\n",
    "    r = sr.Recognizer()\n",
    "\n",
    "    with sr.AudioFile(wavfile) as source:\n",
    "        audio = r.record(source)\n",
    "\n",
    "    wav_to_text = r.recognize_google(audio, language='ja-JP')\n",
    "\n",
    "    print(wav_to_text)\n",
    "\n",
    "    return wav_to_text\n",
    "\n",
    "# 一応既に同じ名前のディレクトリがないか確認。\n",
    "out_dir = \"output\"\n",
    "file = os.path.exists(out_dir)\n",
    "# print(file)\n",
    "\n",
    "if file == False:\n",
    "    #保存先のディレクトリの作成\n",
    "    os.mkdir(out_dir)\n",
    "\n",
    "# fTyp = [(\"\",\"*.wav\")]\n",
    "# iDir = os.path.abspath(os.path.dirname(__file__))\n",
    "# f_name = tkinter.filedialog.askopenfilename(filetypes = fTyp,initialdir = iDir)\n",
    "\n",
    "cut_time = 60\n",
    "out_file = \"output/out.xlsx\"\n",
    "cut_wav(\"data.wav\",float(cut_time))\n"
   ]
  },
  {
   "cell_type": "code",
   "execution_count": null,
   "metadata": {},
   "outputs": [],
   "source": []
  }
 ],
 "metadata": {
  "kernelspec": {
   "display_name": "base",
   "language": "python",
   "name": "python3"
  },
  "language_info": {
   "codemirror_mode": {
    "name": "ipython",
    "version": 3
   },
   "file_extension": ".py",
   "mimetype": "text/x-python",
   "name": "python",
   "nbconvert_exporter": "python",
   "pygments_lexer": "ipython3",
   "version": "3.9.12 (main, Apr  5 2022, 01:52:34) \n[Clang 12.0.0 ]"
  },
  "orig_nbformat": 4,
  "vscode": {
   "interpreter": {
    "hash": "a63926c9a302ca5956f795205930968a4e9edac1b6deb598a23b2480d5833f8f"
   }
  }
 },
 "nbformat": 4,
 "nbformat_minor": 2
}
